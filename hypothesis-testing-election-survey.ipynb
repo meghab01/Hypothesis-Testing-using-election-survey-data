{
 "cells": [
  {
   "cell_type": "markdown",
   "metadata": {},
   "source": [
    "# Comparing Means\n",
    "## Statistics for Data Science\n",
    "\n",
    "## The Data\n",
    "\n",
    "The American National Election Studies (ANES) conducts surveys of voters in the United States.  While its flagship survey occurs every four years at the time of each presidential election, ANES also conducts pilot studies midway between these elections.  You are provided with data from the 2018 ANES Pilot Study.\n",
    "\n",
    "For a glimpse into some of the intricacies that go into the design of this study, take a look at the introduction to the [ANES User's Guide and Codebook](https://electionstudies.org/wp-content/uploads/2019/02/anes_pilot_2018_userguidecodebook.pdf).\n",
    "\n",
    "It is important to consider the way that the ANES sample was created.  Survery participants are taken from the YouGov panel, which is an online system in which users earn rewards for completing questionnaires.  This feature limits the extent to which results generalize to the U.S. population.\n",
    "\n",
    "To partially account for differences between the YouGov panel and the U.S. Population, ANES assigns a survey weight to each observation.  This weight estimates the degree to which a citizen with certain observed characteristics is over- or under-represented in the sample.  For the purposes of this assignment, however, you are not asked to use the survey weights.  (For groups with a strong interest in survey analysis, we recommend that you read about R's [survey package](http://r-survey.r-forge.r-project.org/survey/).  We will assign a very small number of bonus points (up to 3) to any group that correctly applies the survey weights and includes a clear explanation of how these work)."
   ]
  },
  {
   "cell_type": "code",
   "execution_count": null,
   "metadata": {},
   "outputs": [],
   "source": [
    "install.packages('ggplot2')\n",
    "install.packages('tidyverse')\n",
    "install.packages('colorspace')\n",
    "install.packages('effsize')\n",
    "install.packages('dplyr')"
   ]
  },
  {
   "cell_type": "code",
   "execution_count": 32,
   "metadata": {},
   "outputs": [],
   "source": [
    "library(effsize)\n",
    "library(dplyr)\n",
    "library(ggplot2)\n",
    "library(tidyverse)\n",
    "library(colorspace)"
   ]
  },
  {
   "cell_type": "code",
   "execution_count": 33,
   "metadata": {},
   "outputs": [],
   "source": [
    "A = read.csv(\"anes_pilot_2018.csv\")"
   ]
  },
  {
   "cell_type": "code",
   "execution_count": 34,
   "metadata": {},
   "outputs": [
    {
     "data": {
      "text/html": [
       "767"
      ],
      "text/latex": [
       "767"
      ],
      "text/markdown": [
       "767"
      ],
      "text/plain": [
       "[1] 767"
      ]
     },
     "metadata": {},
     "output_type": "display_data"
    },
    {
     "data": {
      "text/plain": [
       "   Min. 1st Qu.  Median    Mean 3rd Qu.    Max. \n",
       "   0.00   47.00   70.00   64.68   90.00  100.00 "
      ]
     },
     "metadata": {},
     "output_type": "display_data"
    },
    {
     "data": {
      "text/plain": [
       "   Min. 1st Qu.  Median    Mean 3rd Qu.    Max. \n",
       "  -7.00   21.00   52.00   52.26   82.00  100.00 "
      ]
     },
     "metadata": {},
     "output_type": "display_data"
    },
    {
     "data": {
      "text/html": [
       "2500"
      ],
      "text/latex": [
       "2500"
      ],
      "text/markdown": [
       "2500"
      ],
      "text/plain": [
       "[1] 2500"
      ]
     },
     "metadata": {},
     "output_type": "display_data"
    },
    {
     "data": {
      "text/html": [
       "2500"
      ],
      "text/latex": [
       "2500"
      ],
      "text/markdown": [
       "2500"
      ],
      "text/plain": [
       "[1] 2500"
      ]
     },
     "metadata": {},
     "output_type": "display_data"
    }
   ],
   "source": [
    "length(A)\n",
    "summary(A$ftpolice)\n",
    "summary(A$ftjournal)\n",
    "length(A$ftpolice)\n",
    "length(A$ftjournal)\n",
    "# objects()\n",
    "# A"
   ]
  },
  {
   "cell_type": "markdown",
   "metadata": {},
   "source": [
    "Following is an example of a question asked on the ANES survey:\n",
    "\n",
    "> How difficult was it for you to vote in this last election?\n",
    "\n",
    "The variable `votehard` records answers to this question, with the following encoding:\n",
    "\n",
    "- -1 inapplicable, legitimate skip\n",
    "- 1 Not difficult at all\n",
    "- 2 A little difficult\n",
    "- 3 Moderately difficult\n",
    "- 4 Very difficult\n",
    "- 5 Extremely difficult\n",
    "\n",
    "\n",
    "To see the precise form of each question, take a look at the [Questionnaire Specifications](https://electionstudies.org/wp-content/uploads/2018/12/anes_pilot_2018_questionnaire.pdf)."
   ]
  },
  {
   "cell_type": "markdown",
   "metadata": {},
   "source": [
    "Using the ANES dataset to address five research questions.  For each question, you will need to operationalize the concepts (selecting appropriate variables and possibly transforming them), conduct exploratory analysis, deal with non-response and other special codes, perform sanity checks, select an appropriate hypothesis test, conduct the test, and interpret your results.  When selecting a hypothesis test, you may choose from the tests covered in the async videos and readings.  These include both paired and unpaired t-tests, Wilcoxon rank-sum test, Wilcoxon signed-rank test, and sign test.  You may select a one-tailed or two-tailed test.\n",
    "\n",
    "Please organize your response according to the prompts in this notebook.\n",
    "\n",
    "Note that this is a group lab.  There is a **maximum of three students per team.**\n",
    "Although you may work on your own, we do not recommend this (we have found that individuals tend to do worse than teams on past labs).\n",
    "\n",
    "Please limit your submission to 5000 words, not counting code or figures.  We will use some python code like the following to perform the wordcount on your notebook or Rmd file.\n",
    "\n",
    "```\n",
    "import nbformat\n",
    "\n",
    "with open('W203_Lab_2.ipynb') as f:\n",
    "    nb = nbformat.read(f, as_version=4)\n",
    "    total_words = 0\n",
    "\n",
    "    for cell in nb['cells']:\n",
    "        if cell['cell_type'] == 'markdown':\n",
    "            total_words += len(cell['source'].split())\n",
    "    print(\"Total words:\", total_words)\n",
    "```\n"
   ]
  },
  {
   "cell_type": "markdown",
   "metadata": {},
   "source": [
    "# Research Questions"
   ]
  },
  {
   "cell_type": "markdown",
   "metadata": {},
   "source": [
    "## Question 1: Do US voters have more respect for the police or for journalists?"
   ]
  },
  {
   "cell_type": "markdown",
   "metadata": {},
   "source": [
    "### Introduce your topic briefly.  (5 points)\n",
    "Explain how your variables are operationalized.  Comment on any gaps that you can identify between your operational definitions and the concepts you are trying to study."
   ]
  },
  {
   "cell_type": "markdown",
   "metadata": {
    "scrolled": true
   },
   "source": [
    "**Variables**\n",
    "\n",
    "For this question we will operationalize two variables: *ftpolice* and *ftjournal*. \n",
    "* *ftpolice* and *ftjournal* variables have ratings from 0 to 100. \n",
    "* These are measured on a feeling thermometer scale, 100 being very warm or favorable and 0 being very cold and unfavorable. \n",
    "* *ftpolice* answers the question - How would you rate the police? \n",
    "* *ftjournal* answers the question - How would you rate the journalists. \n",
    "\n",
    "**Gaps**\n",
    "\n",
    "There is a gap between these operationalized variables and the questions - *Do voters respect police over journalists?*\n",
    "* Respect cannot be accurately measured by just one variable measuring favorable rating. \n",
    "* A favorable rating could be given for many reasons and cannot be equated to respect alone. \n",
    "* But conceptually, we tend to favorably rate things we respect and feel warm towards that. \n",
    "* With that argument, we will be using these variables for our analysis.\n",
    "    * Ratings between 0 and 50 would be considered unfavorable or cold and ratings between 50 and 100 will be considered favorable or warm. \n",
    "    * Ratings between 50 degrees and 100 degrees mean that you feel favorable and warm toward the person. \n",
    "    * Ratings between 0 degrees and 50 degrees mean that you don't feel favorable toward the person and that you don't care too much for that person. \n",
    "    * You would rate the person at the 50 degree mark if you don't feel particularly warm or cold toward the person"
   ]
  },
  {
   "cell_type": "markdown",
   "metadata": {},
   "source": [
    "### Perform an exploratory data analysis (EDA) of the relevant variables. (5 points)\n",
    "This should include a treatment of non-response and other special codes, basic sanity checks, and a justification for any values that are removed.  Use visual tools to assess the relationship among your variables and comment on any features you find."
   ]
  },
  {
   "cell_type": "markdown",
   "metadata": {},
   "source": [
    "We start by plotting a histogram of the two variables :"
   ]
  },
  {
   "cell_type": "code",
   "execution_count": 9,
   "metadata": {},
   "outputs": [
    {
     "data": {
      "image/png": "[encoded data removed]",
      "text/plain": [
       "Plot with title \"Histogram of survey$ftpolice\""
      ]
     },
     "metadata": {},
     "output_type": "display_data"
    },
    {
     "data": {
      "image/png": "[encoded data removed]",
      "text/plain": [
       "Plot with title \"Histogram of survey$ftjournal\""
      ]
     },
     "metadata": {},
     "output_type": "display_data"
    }
   ],
   "source": [
    "survey = read.csv('anes_pilot_2018.csv')\n",
    "hist(survey$ftpolice)\n",
    "hist(survey$ftjournal)"
   ]
  },
  {
   "cell_type": "markdown",
   "metadata": {},
   "source": [
    "***ftpolice*** variable histogram shows higher concentration toward high rankings compared to ***ftjournal*** variable. \n",
    "\n",
    "Next we summarize the data in these two variables. "
   ]
  },
  {
   "cell_type": "code",
   "execution_count": 10,
   "metadata": {},
   "outputs": [
    {
     "data": {
      "text/plain": [
       "   Min. 1st Qu.  Median    Mean 3rd Qu.    Max. \n",
       "   0.00   47.00   70.00   64.68   90.00  100.00 "
      ]
     },
     "metadata": {},
     "output_type": "display_data"
    },
    {
     "data": {
      "text/plain": [
       "   Min. 1st Qu.  Median    Mean 3rd Qu.    Max. \n",
       "  -7.00   21.00   52.00   52.26   82.00  100.00 "
      ]
     },
     "metadata": {},
     "output_type": "display_data"
    },
    {
     "data": {
      "text/html": [
       "2"
      ],
      "text/latex": [
       "2"
      ],
      "text/markdown": [
       "2"
      ],
      "text/plain": [
       "[1] 2"
      ]
     },
     "metadata": {},
     "output_type": "display_data"
    }
   ],
   "source": [
    "summary(survey$ftpolice)\n",
    "summary(survey$ftjournal)\n",
    "jnegative = survey$ftjournal[survey$ftjournal<0]\n",
    "length(jnegative)"
   ]
  },
  {
   "cell_type": "markdown",
   "metadata": {},
   "source": [
    "***ftpolice*** has mean of 64.68 and median of 70 compared to ***ftjournal*** that has mean 52.26 and median 52.26. \n",
    "* This gives us an insight into how people taking the survey have rated the two.\n",
    "* *ftjournal* has two negative values. \n",
    "* Since the feelings thermometer range is between 0 and 100 these seems to be erroneous. "
   ]
  },
  {
   "cell_type": "markdown",
   "metadata": {},
   "source": [
    "### Based on your EDA, select an appropriate hypothesis test.  (5 points)\n",
    "Explain why your test is the most appropriate choice.  List and evaluate all assumptions for your test."
   ]
  },
  {
   "cell_type": "markdown",
   "metadata": {},
   "source": [
    "**Hypothesis Test**\n",
    "\n",
    "We will keep these values since we need the same sample size for both variables to perform ***Wilcoxon signed rank test***\n",
    "\n",
    "$ H_0 $ = US voters' respect for police is the same as respect for journalists\n",
    "\n",
    "$ H_A $ = US voters' respect for poice is NOT the same as respect for journalists\n",
    "\n",
    "**Assumptions**\n",
    "\n",
    "Our preferred choice here is *Wilcoxon signed-rank test*\n",
    "\n",
    "1) Ordinal scale - There is a clear rank order, with 100 > 99 > 98...0. We would not call this a metric variable, since the difference between 100 and 70 may not be the same as the difference between 70 and 40. This means, for example, that it wouldn't be valid to average 100 and 70, and call the result equivalent to a 85. (For this reason, a t-test is not valid)\n",
    "\n",
    "2) Random sampling - There are many reasons to suspect that people taking the survey are not fully independent. There could be clustering for the people from the same family or community taking the survey. People from the same community or family tend to have similar opinions on politics and national issues. To partially account for differences between the YouGov panel and the U.S. Population, ANES assigns a survey weight to each observation. This weight estimates the degree to which a citizen with certain observed characteristics is over- or under-represented in the sample. However, we are not using the weights for this exercise.\n",
    "\n",
    "3) The two variables are paired since the two ratings are from the same people.\n"
   ]
  },
  {
   "cell_type": "markdown",
   "metadata": {},
   "source": [
    "### Conduct your test. (5 points)\n",
    "Explain (1) the statistical significance of your result, and (2) the practical significance of your result.  Make sure you relate your findings to the original research question."
   ]
  },
  {
   "cell_type": "code",
   "execution_count": 11,
   "metadata": {
    "scrolled": true
   },
   "outputs": [
    {
     "data": {
      "text/plain": [
       "\n",
       "\tWilcoxon signed rank test with continuity correction\n",
       "\n",
       "data:  survey$ftpolice and survey$ftjournal\n",
       "V = 1861935, p-value < 2.2e-16\n",
       "alternative hypothesis: true location shift is not equal to 0\n",
       "95 percent confidence interval:\n",
       "  9.999927 14.000043\n",
       "sample estimates:\n",
       "(pseudo)median \n",
       "      11.99996 \n"
      ]
     },
     "metadata": {},
     "output_type": "display_data"
    }
   ],
   "source": [
    "wilcox.test(survey$ftpolice,survey$ftjournal, mu=0, paired = T, alternative = \"two.sided\", conf.int = T)"
   ]
  },
  {
   "cell_type": "code",
   "execution_count": 12,
   "metadata": {},
   "outputs": [
    {
     "data": {
      "text/plain": [
       "\n",
       "Cohen's d\n",
       "\n",
       "d estimate: 0.4041218 (small)\n",
       "95 percent confidence interval:\n",
       "    lower     upper \n",
       "0.3481091 0.4601345 \n"
      ]
     },
     "metadata": {},
     "output_type": "display_data"
    }
   ],
   "source": [
    "cohen.d(survey$ftpolice,survey$ftjournal)"
   ]
  },
  {
   "cell_type": "markdown",
   "metadata": {},
   "source": [
    "**(1)** Statistical Significance\n",
    "\n",
    "The test is statically significant with very small p value\n",
    "\n",
    "**(2)** Practical significance\n",
    "\n",
    "The effect size is small (.4) \n",
    "\n",
    "**Findings**\n",
    "\n",
    "This means that the we reject the null hypothesis. The true location shift is not equal to 0, meaning people don't rate police and journalists the same. However, the effect size of this is small."
   ]
  },
  {
   "cell_type": "markdown",
   "metadata": {},
   "source": [
    "## Question 2: Are Republican voters older or younger than Democratic voters?"
   ]
  },
  {
   "cell_type": "markdown",
   "metadata": {},
   "source": [
    "### Introduce your topic briefly.  (5 points)\n",
    "Explain how your variables are operationalized.  Comment on any gaps that you can identify between your operational definitions and the concepts you are trying to study."
   ]
  },
  {
   "cell_type": "code",
   "execution_count": 13,
   "metadata": {},
   "outputs": [
    {
     "data": {
      "text/plain": [
       "   Min. 1st Qu.  Median    Mean 3rd Qu.    Max. \n",
       "   1927    1956    1966    1969    1983    2000 "
      ]
     },
     "metadata": {},
     "output_type": "display_data"
    }
   ],
   "source": [
    "# age will be calculated by respondents' year of birth (birthyr)\n",
    "summary(A$birthyr)"
   ]
  },
  {
   "cell_type": "markdown",
   "metadata": {},
   "source": [
    "**pid1d** in questionaire: *Generally speaking, do you usually think of yourself as a Democrat, Republican, an independent or something else?*\n",
    "* Democrat[1],\n",
    "* Republican[2],\n",
    "* independent[3],\n",
    "* something else[4]?\n",
    "\n",
    "in case pid1d = 3 or 4 or NO ANSWER\n",
    "* ***pidlean*** in questionaire: *Do you think of yourself as closer to the Republican Party or to the Democratic Party?*\n",
    "    * Closer to Republican Party[1], \n",
    "    * Closer to Democratic Party[2], \n",
    "    * Neither [3]\n",
    "\n",
    "**pid7x** is then be calculated based on respond in *pid1d* and *pidlean*\n",
    "* Strong Dem[1],\n",
    "* Not very strong Dem[2],\n",
    "* Ind, closer to Dem[3],\n",
    "* Independent[4],\n",
    "* Ind, closer to Rep [5], \n",
    "* Not very strong Rep[6], \n",
    "* Strong Rep[7] "
   ]
  },
  {
   "cell_type": "code",
   "execution_count": 14,
   "metadata": {},
   "outputs": [
    {
     "data": {
      "text/plain": [
       "   Min. 1st Qu.  Median    Mean 3rd Qu.    Max. \n",
       " -7.000   1.000   4.000   3.285   5.000   7.000 "
      ]
     },
     "metadata": {},
     "output_type": "display_data"
    }
   ],
   "source": [
    "summary(A$pid7x)"
   ]
  },
  {
   "cell_type": "code",
   "execution_count": 15,
   "metadata": {},
   "outputs": [
    {
     "data": {
      "text/html": [
       "<table>\n",
       "<thead><tr><th scope=col>Group.1</th><th scope=col>x</th></tr></thead>\n",
       "<tbody>\n",
       "\t<tr><td>-7 </td><td> 98</td></tr>\n",
       "\t<tr><td> 1 </td><td>581</td></tr>\n",
       "\t<tr><td> 2 </td><td>276</td></tr>\n",
       "\t<tr><td> 3 </td><td>279</td></tr>\n",
       "\t<tr><td> 4 </td><td>417</td></tr>\n",
       "\t<tr><td> 5 </td><td>241</td></tr>\n",
       "\t<tr><td> 6 </td><td>200</td></tr>\n",
       "\t<tr><td> 7 </td><td>408</td></tr>\n",
       "</tbody>\n",
       "</table>\n"
      ],
      "text/latex": [
       "\\begin{tabular}{r|ll}\n",
       " Group.1 & x\\\\\n",
       "\\hline\n",
       "\t -7  &  98\\\\\n",
       "\t  1  & 581\\\\\n",
       "\t  2  & 276\\\\\n",
       "\t  3  & 279\\\\\n",
       "\t  4  & 417\\\\\n",
       "\t  5  & 241\\\\\n",
       "\t  6  & 200\\\\\n",
       "\t  7  & 408\\\\\n",
       "\\end{tabular}\n"
      ],
      "text/markdown": [
       "\n",
       "| Group.1 | x |\n",
       "|---|---|\n",
       "| -7  |  98 |\n",
       "|  1  | 581 |\n",
       "|  2  | 276 |\n",
       "|  3  | 279 |\n",
       "|  4  | 417 |\n",
       "|  5  | 241 |\n",
       "|  6  | 200 |\n",
       "|  7  | 408 |\n",
       "\n"
      ],
      "text/plain": [
       "  Group.1 x  \n",
       "1 -7       98\n",
       "2  1      581\n",
       "3  2      276\n",
       "4  3      279\n",
       "5  4      417\n",
       "6  5      241\n",
       "7  6      200\n",
       "8  7      408"
      ]
     },
     "metadata": {},
     "output_type": "display_data"
    }
   ],
   "source": [
    "# Count number of Democrat & Republican respondents\n",
    "aggregate(A$pid7x, \n",
    "          by=list(A$pid7x),\n",
    "          FUN=length)"
   ]
  },
  {
   "cell_type": "markdown",
   "metadata": {},
   "source": [
    "Operationalization of age difference between voters who identified themselves as Republican and those self-identified as Democrat is a quite straight forward exercise, given we have 2 random variables from questionaires:\n",
    "\n",
    "1) **birthyr**: *In what year, you were borned?* \n",
    "\n",
    "2) **pidx**: *Party ID summary*\n",
    "\n",
    "We could run two-mean hypothesis test of age (2018 - birthyr) between those who has pid1d of [1] and [2]\n",
    "\n",
    "Exploratory Data Analysis also shows a large number of inapplicable, and legitimate skip input (1,331 observations) as indicated by pid1d of [-1]."
   ]
  },
  {
   "cell_type": "code",
   "execution_count": 16,
   "metadata": {},
   "outputs": [
    {
     "data": {
      "text/plain": [
       "     pid7x          birthyr          age       \n",
       " Min.   :1.000   Min.   :1927   Min.   :18.00  \n",
       " 1st Qu.:1.000   1st Qu.:1955   1st Qu.:35.00  \n",
       " Median :1.000   Median :1966   Median :52.00  \n",
       " Mean   :1.734   Mean   :1968   Mean   :49.64  \n",
       " 3rd Qu.:2.000   3rd Qu.:1983   3rd Qu.:63.00  \n",
       " Max.   :3.000   Max.   :2000   Max.   :91.00  "
      ]
     },
     "metadata": {},
     "output_type": "display_data"
    },
    {
     "data": {
      "text/html": [
       "<ol class=list-inline>\n",
       "\t<li>1136</li>\n",
       "\t<li>3</li>\n",
       "</ol>\n"
      ],
      "text/latex": [
       "\\begin{enumerate*}\n",
       "\\item 1136\n",
       "\\item 3\n",
       "\\end{enumerate*}\n"
      ],
      "text/markdown": [
       "1. 1136\n",
       "2. 3\n",
       "\n",
       "\n"
      ],
      "text/plain": [
       "[1] 1136    3"
      ]
     },
     "metadata": {},
     "output_type": "display_data"
    },
    {
     "data": {
      "text/plain": [
       "     pid7x          birthyr          age       \n",
       " Min.   :5.000   Min.   :1928   Min.   :18.00  \n",
       " 1st Qu.:5.000   1st Qu.:1952   1st Qu.:41.00  \n",
       " Median :6.000   Median :1962   Median :56.00  \n",
       " Mean   :6.197   Mean   :1965   Mean   :53.33  \n",
       " 3rd Qu.:7.000   3rd Qu.:1977   3rd Qu.:66.00  \n",
       " Max.   :7.000   Max.   :2000   Max.   :90.00  "
      ]
     },
     "metadata": {},
     "output_type": "display_data"
    },
    {
     "data": {
      "text/html": [
       "<ol class=list-inline>\n",
       "\t<li>849</li>\n",
       "\t<li>3</li>\n",
       "</ol>\n"
      ],
      "text/latex": [
       "\\begin{enumerate*}\n",
       "\\item 849\n",
       "\\item 3\n",
       "\\end{enumerate*}\n"
      ],
      "text/markdown": [
       "1. 849\n",
       "2. 3\n",
       "\n",
       "\n"
      ],
      "text/plain": [
       "[1] 849   3"
      ]
     },
     "metadata": {},
     "output_type": "display_data"
    }
   ],
   "source": [
    "# A_2 is the subset of data with two columns for question 2\n",
    "A_2 <- A[,c(\"pid7x\",\"birthyr\")]\n",
    "# A_2 command mean?\n",
    "\n",
    "# separate Dem and Rep into two dataframe based on pid7x analysis from responds \n",
    "A_2D <- subset(A_2, pid7x==1 | pid7x==2 | pid7x==3)\n",
    "A_2R <- subset(A_2, pid7x==5 | pid7x==6 | pid7x==7)\n",
    "\n",
    "A_2D <- mutate(A_2D, age = 2018-birthyr)\n",
    "A_2R <- mutate(A_2R, age = 2018-birthyr)\n",
    "\n",
    "summary(A_2D)\n",
    "dim(A_2D)\n",
    "\n",
    "summary(A_2R)\n",
    "dim(A_2R)"
   ]
  },
  {
   "cell_type": "markdown",
   "metadata": {},
   "source": [
    "### Perform an exploratory data analysis (EDA) of the relevant variables. (5 points)\n",
    "This should include a treatment of non-response and other special codes, basic sanity checks, and a justification for any values that are removed.  Use visual tools to assess the relationship among your variables and comment on any features you find."
   ]
  },
  {
   "cell_type": "code",
   "execution_count": 17,
   "metadata": {},
   "outputs": [
    {
     "data": {
      "image/png": "[encoded data removed]",
      "text/plain": [
       "Plot with title \"Histogram of A_2D$age\""
      ]
     },
     "metadata": {},
     "output_type": "display_data"
    }
   ],
   "source": [
    "options(repr.plot.height = 5, repr.plot.width = 5, repr.plot.pointsize= 10)\n",
    "hist(A_2D$age)"
   ]
  },
  {
   "cell_type": "code",
   "execution_count": 15,
   "metadata": {},
   "outputs": [
    {
     "data": {
      "image/png": "[encoded data removed]",
      "text/plain": [
       "Plot with title “Histogram of A_2R$age”"
      ]
     },
     "metadata": {},
     "output_type": "display_data"
    }
   ],
   "source": [
    "hist(A_2R$age)"
   ]
  },
  {
   "cell_type": "markdown",
   "metadata": {},
   "source": [
    "### Based on your EDA, select an appropriate hypothesis test.  (5 points)\n",
    "Explain why your test is the most appropriate choice.  List and evaluate all assumptions for your test."
   ]
  },
  {
   "cell_type": "markdown",
   "metadata": {},
   "source": [
    "**Hypothesis Test**\n",
    "\n",
    "$ H_0 = $ Difference in means is equal to 0\n",
    "\n",
    "$ H_A = $ Difference in means is not equal to 0\n",
    "\n",
    "This is a great case for an **unpaired t-test** based on the following required assumption:\n",
    "\n",
    "**Assumptions**\n",
    "\n",
    "1) Metric scale. \"Year of Birth\" and the calculated \"Age\" from this questionaire (ie, most respondents could provide their exact year of birth, unlike, say specifi year of first smoking, which people could be more foggy to recall and might need to provide respond in range of year) have fixed unit of measurement, so is considered as metric.\n",
    "\n",
    "2) Random sampling. Variable from the survey is considered independent, as the study was conducted on a lare and diverse set of over a million respondents, where responders were selected by sample matching. However, given survey participants are taken from online system in which users earn rewards from completing questionarires, there are minor reasons to suspect that sampling plan might not be fully independent. There could be clustering effects based on similar income group or geographic community who share news and attractiveness of the rewards.\n",
    "\n",
    "3) Normality. We have a large sample so we can use the CLT to justify a parametric test. We also examine a histogram of birthyr if there is an unusual departure from normality, especially an unusual skew. There is no cause for alarm here, so we could proceed with the parametric test."
   ]
  },
  {
   "cell_type": "markdown",
   "metadata": {},
   "source": [
    "### Conduct your test. (5 points)\n",
    "Explain (1) the statistical significance of your result, and (2) the practical significance of your result.  Make sure you relate your findings to the original research question."
   ]
  },
  {
   "cell_type": "code",
   "execution_count": 16,
   "metadata": {},
   "outputs": [
    {
     "data": {
      "text/plain": [
       "\n",
       "\tWelch Two Sample t-test\n",
       "\n",
       "data:  A_2D$age and A_2R$age\n",
       "t = -4.805, df = 1823.3, p-value = 1.674e-06\n",
       "alternative hypothesis: true difference in means is not equal to 0\n",
       "95 percent confidence interval:\n",
       " -5.192611 -2.182347\n",
       "sample estimates:\n",
       "mean of x mean of y \n",
       " 49.63996  53.32744 \n"
      ]
     },
     "metadata": {},
     "output_type": "display_data"
    }
   ],
   "source": [
    "t.test(A_2D$age, A_2R$age, paired = FALSE)"
   ]
  },
  {
   "cell_type": "markdown",
   "metadata": {},
   "source": [
    "**(1)** Statistical Significance\n",
    "\n",
    "As p-value is lower than 2.5%, we reject null hypothesis with statistical significance. There are true difference between the mean ages of Republican and Democrat voters."
   ]
  },
  {
   "cell_type": "code",
   "execution_count": 17,
   "metadata": {},
   "outputs": [
    {
     "data": {
      "text/plain": [
       "\n",
       "Cohen's d\n",
       "\n",
       "d estimate: -0.2180997 (small)\n",
       "95 percent confidence interval:\n",
       "     lower      upper \n",
       "-0.3073297 -0.1288697 \n"
      ]
     },
     "metadata": {},
     "output_type": "display_data"
    }
   ],
   "source": [
    "cohen.d(A_2D$age, A_2R$age)"
   ]
  },
  {
   "cell_type": "markdown",
   "metadata": {},
   "source": [
    "**(2)** Practical Significance\n",
    "\n",
    "As Cohend'D is -0.21, it is considered as small to medium practical significant. This means even though t-test result indicate rejection of the null hypothesis, we could not conclude the differece in mean ages with practical significance."
   ]
  },
  {
   "cell_type": "markdown",
   "metadata": {},
   "source": [
    "## Question 3: Do a majority of independent voters believe that the federal investigations of Russian election interference are baseless?"
   ]
  },
  {
   "cell_type": "markdown",
   "metadata": {},
   "source": [
    "### Introduce your topic briefly.  (5 points)\n",
    "Explain how your variables are operationalized.  Comment on any gaps that you can identify between your operational definitions and the concepts you are trying to study."
   ]
  },
  {
   "cell_type": "markdown",
   "metadata": {},
   "source": [
    "**Question**\n",
    "\n",
    "Currently, thre are federal investigations of Russian election interference.  \n",
    "\n",
    "A voter would beleive that this investigation is baseless if the voter thinks that the interference probably didn't happen.\n",
    "\n",
    "We want to study from our sample data, whether a majority of independent voters believe that the federal investigations of Russian election interference are baseless.\n",
    "\n",
    "From the sample of independent voters, we can test whether or not they believe the federal investigation is baseless.\n",
    "\n",
    "*(Definition of Interference* : *take part or intervene in an activity without invitation or necessity)*\n",
    "\n",
    "**Variables**\n",
    "\n",
    "`pid7x` *Party ID summary*\n",
    "* We can use this variable and the values below to get the sample of voters who consider themselves independent. (Not Democrat nor Republican.)\n",
    "    * 3 - Independent, closer to Democrat\n",
    "    * 4 - Independent\n",
    "    * 5 - Independent, closer to Republican\n",
    "\n",
    "`russia16` *Do you think the Russian government probably interfered in the 2016 presidential election\n",
    "to try to help Donald Trump win, or do you think this probably did not happen?*\n",
    "* We can use it to get the quantity\n",
    "    * -7 means No answer\n",
    "    * 1 means Russia probably interfered\n",
    "    * 2 means probably didn't happen\n",
    "    \n",
    "**may-seem-relevant Variables, but cannot use**\n",
    "\n",
    "`coord16`  *Do you think Donald Trump’s 2016 campaign probably coordinated with the Russians, or do\n",
    "you think his campaign probably did not do this?*\n",
    "* Although this variable may seem somewhat relevant, we cannot use this because: \n",
    "    1. a campaign coordinating with Russians doesn't mean that the government interfered\n",
    "    2. even if the government was found to have an influence or impact upon investigation, if the campaign coordinated with the Russians, that doesn't that count as interference (from the definition, taking part without invitation)\n",
    "\n",
    "`russia`  *During the past 12 months, do you think U.S. policy has been too tough, about right, or not\n",
    "tough enough with these countries?*\n",
    "* This variable is also not applicable, because we are only concerned with notion of election interference. "
   ]
  },
  {
   "cell_type": "markdown",
   "metadata": {},
   "source": [
    "### Perform an exploratory data analysis (EDA) of the relevant variables. (5 points)\n",
    "This should include a treatment of non-response and other special codes, basic sanity checks, and a justification for any values that are removed.  Use visual tools to assess the relationship among your variables and comment on any features you find."
   ]
  },
  {
   "cell_type": "code",
   "execution_count": 18,
   "metadata": {},
   "outputs": [
    {
     "name": "stdout",
     "output_type": "stream",
     "text": [
      "Summary:"
     ]
    },
    {
     "data": {
      "text/plain": [
       "    russia16          pid7x      \n",
       " Min.   :-7.000   Min.   :3.000  \n",
       " 1st Qu.: 1.000   1st Qu.:3.000  \n",
       " Median : 1.000   Median :4.000  \n",
       " Mean   : 1.458   Mean   :3.959  \n",
       " 3rd Qu.: 2.000   3rd Qu.:5.000  \n",
       " Max.   : 2.000   Max.   :5.000  "
      ]
     },
     "metadata": {},
     "output_type": "display_data"
    },
    {
     "name": "stdout",
     "output_type": "stream",
     "text": [
      "Dimensions of Subset A_4:"
     ]
    },
    {
     "data": {
      "text/html": [
       "<ol class=list-inline>\n",
       "\t<li>937</li>\n",
       "\t<li>2</li>\n",
       "</ol>\n"
      ],
      "text/latex": [
       "\\begin{enumerate*}\n",
       "\\item 937\n",
       "\\item 2\n",
       "\\end{enumerate*}\n"
      ],
      "text/markdown": [
       "1. 937\n",
       "2. 2\n",
       "\n",
       "\n"
      ],
      "text/plain": [
       "[1] 937   2"
      ]
     },
     "metadata": {},
     "output_type": "display_data"
    },
    {
     "name": "stdout",
     "output_type": "stream",
     "text": [
      "We have a total of 937 independent voters"
     ]
    }
   ],
   "source": [
    "# A_4 is the subset of complete survey data with just the two columns we want\n",
    "A_4 <- A[,c(\"russia16\",\"pid7x\")]\n",
    "\n",
    "    ## summary(A_4)\n",
    "    ## dim(A_4)\n",
    "\n",
    "# Removing the non-independent voters (selecting only the values of pid17x with 3, 4 and 5)\n",
    "A_4 <- subset(A_4, pid7x==3 | pid7x==4 | pid7x==5)\n",
    "\n",
    "cat(\"Summary:\")\n",
    "summary(A_4)\n",
    "\n",
    "cat(\"Dimensions of Subset A_4:\")\n",
    "dim(A_4)\n",
    "\n",
    "cat(\"We have a total of\",nrow(A_4), \"independent voters\")"
   ]
  },
  {
   "cell_type": "code",
   "execution_count": 19,
   "metadata": {},
   "outputs": [
    {
     "data": {
      "image/png": "[encoded data removed]",
      "text/plain": [
       "Plot with title “No. of voters who believe Not Baseless vs Baseless”"
      ]
     },
     "metadata": {},
     "output_type": "display_data"
    }
   ],
   "source": [
    "# Visualization\n",
    "freq <- table(A_4$russia16)\n",
    "x <- barplot(freq, main=\"No. of voters who believe Not Baseless vs Baseless\", names.arg=c(\"-7 No Answer\", \"1 - Not Baseless\",\"2 - Baseless\"))\n",
    "text(x, y = freq, labels = freq, pos = 1, cex = 0.8)"
   ]
  },
  {
   "cell_type": "code",
   "execution_count": 20,
   "metadata": {},
   "outputs": [
    {
     "name": "stdout",
     "output_type": "stream",
     "text": [
      "Summary:"
     ]
    },
    {
     "data": {
      "text/plain": [
       "    russia16         pid7x      \n",
       " Min.   :1.000   Min.   :3.000  \n",
       " 1st Qu.:1.000   1st Qu.:3.000  \n",
       " Median :1.000   Median :4.000  \n",
       " Mean   :1.467   Mean   :3.959  \n",
       " 3rd Qu.:2.000   3rd Qu.:5.000  \n",
       " Max.   :2.000   Max.   :5.000  "
      ]
     },
     "metadata": {},
     "output_type": "display_data"
    },
    {
     "name": "stdout",
     "output_type": "stream",
     "text": [
      "Dimensions of Subset A_4:"
     ]
    },
    {
     "data": {
      "text/html": [
       "<ol class=list-inline>\n",
       "\t<li>936</li>\n",
       "\t<li>2</li>\n",
       "</ol>\n"
      ],
      "text/latex": [
       "\\begin{enumerate*}\n",
       "\\item 936\n",
       "\\item 2\n",
       "\\end{enumerate*}\n"
      ],
      "text/markdown": [
       "1. 936\n",
       "2. 2\n",
       "\n",
       "\n"
      ],
      "text/plain": [
       "[1] 936   2"
      ]
     },
     "metadata": {},
     "output_type": "display_data"
    },
    {
     "name": "stdout",
     "output_type": "stream",
     "text": [
      "We have a total of 936 independent voters, who either believe the investigations are baseless or not baseless"
     ]
    }
   ],
   "source": [
    "## In our data, we have one outlier. \n",
    "## One voter chose -7 (No answer) when asked if they believe the Russian government interfered in the elections\n",
    "\n",
    "## Our question is to see if a majority of independent voters believe the investigation is baseless...\n",
    "## .. in other words, if they believe that \"Russians probably didn't interfere\"\n",
    "\n",
    "## If the voter beleives Russians did interfere, then according to them the investigations are NOT baseless\n",
    "\n",
    "## Giving No answer is not an appropriate response to include in the sample of independent voters\n",
    "\n",
    "# So, we must remove the value of -7\n",
    "A_4 <- subset(A_4, russia16==1 | russia16==2)\n",
    "\n",
    "cat(\"Summary:\")\n",
    "summary(A_4)\n",
    "\n",
    "cat(\"Dimensions of Subset A_4:\")\n",
    "dim(A_4)\n",
    "\n",
    "cat(\"We have a total of\",nrow(A_4), \"independent voters, who either believe the investigations are baseless or not baseless\")"
   ]
  },
  {
   "cell_type": "code",
   "execution_count": 21,
   "metadata": {},
   "outputs": [
    {
     "name": "stdout",
     "output_type": "stream",
     "text": [
      "Total number of voters who believe investigations are baseless are 437 \n",
      "Total number of voters who believe investigations are NOT baseless are 499"
     ]
    }
   ],
   "source": [
    "# Voters who believe that the investigation is baseless (russia16 = 2)\n",
    "baseless <- subset(A_4, russia16==2)\n",
    "\n",
    "    ## summary(baseless)\n",
    "    ## dim(baseless)\n",
    "\n",
    "cat(\"Total number of voters who believe investigations are baseless are\",nrow(baseless),\"\\n\")\n",
    "\n",
    "# Voters who believe investigation is NOT baseless (russia16 = 1)\n",
    "based <- subset(A_4, russia16==1)\n",
    "\n",
    "    ## summary(based)\n",
    "    ## dim(based)\n",
    "\n",
    "cat(\"Total number of voters who believe investigations are NOT baseless are\",nrow(based))"
   ]
  },
  {
   "cell_type": "markdown",
   "metadata": {},
   "source": [
    "### Based on your EDA, select an appropriate hypothesis test.  (5 points)\n",
    "Explain why your test is the most appropriate choice.  List and evaluate all assumptions for your test."
   ]
  },
  {
   "cell_type": "markdown",
   "metadata": {},
   "source": [
    "**Hypothesis Test**\n",
    "* Since we are testing the sizes of two groups, we will use the **Sign Test**.\n",
    "* The sign test is a non-parametric test, we do not assume that the data is normally distributed. \n",
    "\n",
    "$ H_0 $ = No. of voters who believe the investigation is baseless is equal to No. of voters who believe there is reason (p=0.5)\n",
    "\n",
    "$ H_A $ = No. of voters who believe the investigation is baseless does not equal No. of voters who believe there is reason \n",
    "\n",
    "**Assumptions**\n",
    "\n",
    "* We assume that that the sample is a fair representation of the population, and drawn by the process of random sampling\n",
    "* We also assume that the sample items are independent and dichotomous\n",
    "\n",
    "\n",
    "* In our sample of independent voters (subset A_4), we will define asking the question of whether or not the voter believes the investigations are baseless. \n",
    "    * Here, the number of trials will be the total number of voters\n",
    "    * A success is defined as the voter believing the investigation is baseless"
   ]
  },
  {
   "cell_type": "markdown",
   "metadata": {},
   "source": [
    "### Conduct your test. (5 points)\n",
    "Explain (1) the statistical significance of your result, and (2) the practical significance of your result.  Make sure you relate your findings to the original research question."
   ]
  },
  {
   "cell_type": "code",
   "execution_count": 22,
   "metadata": {},
   "outputs": [
    {
     "data": {
      "text/plain": [
       "\n",
       "\tExact binomial test\n",
       "\n",
       "data:  success and total\n",
       "number of successes = 437, number of trials = 936, p-value = 0.04611\n",
       "alternative hypothesis: true probability of success is not equal to 0.5\n",
       "95 percent confidence interval:\n",
       " 0.4345321 0.4994375\n",
       "sample estimates:\n",
       "probability of success \n",
       "             0.4668803 \n"
      ]
     },
     "metadata": {},
     "output_type": "display_data"
    }
   ],
   "source": [
    "# We will use the binom.test function of R\n",
    "\n",
    "# No. of Trial and Success calculation\n",
    "total <- nrow(A_4)\n",
    "success <- nrow(baseless)\n",
    "\n",
    "# Test\n",
    "binom.test(success, total, 0.5)"
   ]
  },
  {
   "cell_type": "markdown",
   "metadata": {},
   "source": [
    "**(1)** Statistical Significance\n",
    "\n",
    "*p-value* is lesser than 0.05\n",
    "* so we can reject our Null hypothesis\n",
    "* Our p-value is statistically significant \n",
    "* So, the number of voters who believe this investigation is baseless is NOT equal to the number who don't\n"
   ]
  },
  {
   "cell_type": "markdown",
   "metadata": {},
   "source": [
    "In this binomial test, we see our observed probability $ p_0 = 0.466 $ \n",
    "\n",
    "The Relative risk is 0.466/0.5 = 0.932\n",
    "\n",
    "Therefore the relative risk of a success in this trial is 0.9"
   ]
  },
  {
   "cell_type": "code",
   "execution_count": 23,
   "metadata": {},
   "outputs": [
    {
     "name": "stdout",
     "output_type": "stream",
     "text": [
      "The test statistic (absolute z-value) is  2.085227"
     ]
    }
   ],
   "source": [
    "# Let us run the one-proportion Z-test\n",
    "\n",
    "# The observed proportion value (probability of success)\n",
    "p_0 <- 0.466\n",
    "\n",
    "# q value\n",
    "q <- 1 - p_0\n",
    "\n",
    "# We will define the expected proportion value as 0.5\n",
    "p_e <- 0.5\n",
    "\n",
    "# Number of trials \n",
    "n <- total\n",
    "\n",
    "# Z-Test\n",
    "z <- (p_0 - p_e)/sqrt((p_0 * q)/n)\n",
    "\n",
    "cat(\"The test statistic (absolute z-value) is \",abs(z))"
   ]
  },
  {
   "cell_type": "markdown",
   "metadata": {},
   "source": [
    "**(2)** Practical Significance\n",
    "\n",
    "The test statistic $ |z| $ is greater than 1.96\n",
    "\n",
    "Our test is significant"
   ]
  },
  {
   "cell_type": "markdown",
   "metadata": {},
   "source": [
    "## Question 4: Was anger or fear more effective at driving increases in voter turnout from 2016 to 2018?"
   ]
  },
  {
   "cell_type": "markdown",
   "metadata": {},
   "source": [
    "### Introduce your topic briefly.  (5 points)\n",
    "Explain how your variables are operationalized.  Comment on any gaps that you can identify between your operational definitions and the concepts you are trying to study."
   ]
  },
  {
   "cell_type": "markdown",
   "metadata": {},
   "source": [
    "This topic explores a form of a comparison--gauging whether anger or fear played more of a role in increasing voter turnout from 2016 to 2018. The null hypothesis would be that both anger and fear held the same amount of sway in increasing voter turnout from 2016 to 2018. The alternate hypothesis would be that fear and anger held differing roles in increasing voter turnout from 2016 to 2018.\n",
    "\n",
    "###### Operationalizing the Variables: \n",
    "* Anger: this will be defined as a time a respondent expressed anger at the overall state of politics in the country (as indicated in geangry), other forms of anger towards specific groups (i.e. imangry) will not be considered as we believe this would be testing a certain attitude rather than general anger.\n",
    "* Fear: this will be defined as a time a respondent expressed fear at the overall state of politics in the country (as indicated in geafraid), other forms of fear towards specific groups (i.e. imfear) will not be considered as we believe this would be testing a certain attitude rather than general fear.\n",
    "* Increase in voter turnout: voter turnout will be determined using the variables: turnout16, and turnout18; the difference between voter turnout (increase) between 2016 and 2018 will be the dependent variable. We have decided to keep the following cases in the dataset: citizen voted both years, citizen voted in 2016 and not in 2018, and citizen voted in 2018 and not in 2016. We contemplated only including cases where there was a positive increase in voter turnout (i.e. citizen voted in 2018, but not in 2016), but we found that it was important to have differing values for the dependent variable (increase in voter turnout). It is important to note that we are using \"increases\" in voter turnout (whether postivie, negative, or neutral) rather turnout itself.\n",
    "\n",
    "##### Technical Detail on Independent Variables\n",
    "\n",
    "###### geangry:\n",
    "* Question: How do you feel about the way things are going in the country: angry\n",
    "* Potential Responses:  \n",
    "-7 No Answer  \n",
    "1 Not at all  \n",
    "2 A little  \n",
    "3 Somewhat  \n",
    "4 Very  \n",
    "5 Extremely  \n",
    "* Treatment in test: the question implies a comparison between angry and fearful groups, only responses that indicate anger (response = 2+) will be used in the test to represent the \"angry\" group. \"No answer\" responses will be filtered out.\n",
    "\n",
    "###### geafraid:\n",
    "* Question: How do you feel about the way things are going in the country: afraid\n",
    "* Potential Responses:  \n",
    "-7 No Answer  \n",
    "1 Not at all  \n",
    "2 A little  \n",
    "3 Somewhat  \n",
    "4 Very  \n",
    "5 Extremely  \n",
    "* Treatment in test: the question implies a comparison between angry and fearful groups, only responses that indicate fear (response = 2+) will be used in the test to represent the \"fearful\" group. \"No answer\" responses will be filtered out.\n",
    "\n",
    "\n",
    "###### turnout16\n",
    "* Question: Asks citizens whether they voted in the 2016 election:\n",
    "* Potential Repsonses:\n",
    "1 Definitely voted\n",
    "2 Definitely did not vote\n",
    "3 Not completely sure\n",
    "\n",
    "###### turnout18\n",
    "* Question: Asks citizens whether they voted in the 2016 election:\n",
    "* Potential Repsonses:\n",
    "1 Definitely voted in person on Nov 6\n",
    "2 Definitely voted in person, before Nov 6\n",
    "3 Definitely voted by mail\n",
    "4 Definitely did not vote\n",
    "5 Not completely sure\n",
    "\n",
    "###### Independent Variables:\n",
    "X1: anger, X2: fear\n",
    "\n",
    "###### Dependent Variable:\n",
    "Y: increase in voter turnout"
   ]
  },
  {
   "cell_type": "markdown",
   "metadata": {},
   "source": [
    "### Perform an exploratory data analysis (EDA) of the relevant variables. (5 points)\n",
    "This should include a treatment of non-response and other special codes, basic sanity checks, and a justification for any values that are removed.  Use visual tools to assess the relationship among your variables and comment on any features you find."
   ]
  },
  {
   "cell_type": "code",
   "execution_count": 24,
   "metadata": {},
   "outputs": [],
   "source": [
    "turnout_16<-A$turnout16\n",
    "turnout_18<-A$turnout18\n",
    "ge_angry<-A$geangry\n",
    "ge_afraid<-A$geafraid"
   ]
  },
  {
   "cell_type": "code",
   "execution_count": 25,
   "metadata": {},
   "outputs": [
    {
     "data": {
      "image/png": "[encoded data removed]",
      "text/plain": [
       "Plot with title “Histogram of ge_angry”"
      ]
     },
     "metadata": {},
     "output_type": "display_data"
    }
   ],
   "source": [
    "hist(ge_angry) #negative values will be filtered out in the future"
   ]
  },
  {
   "cell_type": "code",
   "execution_count": 26,
   "metadata": {},
   "outputs": [
    {
     "data": {
      "image/png": "[encoded data removed]",
      "text/plain": [
       "Plot with title “Histogram of ge_afraid”"
      ]
     },
     "metadata": {},
     "output_type": "display_data"
    }
   ],
   "source": [
    "hist(ge_afraid) #negative values will be filtered out in the future"
   ]
  },
  {
   "cell_type": "code",
   "execution_count": 27,
   "metadata": {},
   "outputs": [
    {
     "data": {
      "image/png": "[encoded data removed]",
      "text/plain": [
       "Plot with title “Histogram of turnout_16”"
      ]
     },
     "metadata": {},
     "output_type": "display_data"
    }
   ],
   "source": [
    "hist(turnout_16) #only the value of 1 indicates a true vote, other values will be filtered out"
   ]
  },
  {
   "cell_type": "code",
   "execution_count": 28,
   "metadata": {},
   "outputs": [
    {
     "data": {
      "image/png": "[encoded data removed]",
      "text/plain": [
       "Plot with title “Histogram of turnout_18”"
      ]
     },
     "metadata": {},
     "output_type": "display_data"
    }
   ],
   "source": [
    "hist(turnout_18) #values 1,2,3 indicate a vote, other values will be filtered out"
   ]
  },
  {
   "cell_type": "code",
   "execution_count": 21,
   "metadata": {},
   "outputs": [],
   "source": [
    "#filtering out negative and not sure values to only include the angry and afraid groups\n",
    "#filtering out citizens who don't know if they did or didn't vote\n",
    "q4<-filter(A, geangry>0 & geafraid>0  & turnout18!=5 & turnout16!=3)"
   ]
  },
  {
   "cell_type": "code",
   "execution_count": 22,
   "metadata": {},
   "outputs": [
    {
     "data": {
      "image/png": "[encoded data removed]",
      "text/plain": [
       "plot without title"
      ]
     },
     "metadata": {},
     "output_type": "display_data"
    }
   ],
   "source": [
    "q4$voted16 <- ifelse(q4$turnout16==1, 1, 0) \n",
    "q4$voted18 <- ifelse(q4$turnout18<4, 1, 0)\n",
    "p<-ggplot(data=q4, aes(x=geangry, y=voted16)) +\n",
    "  geom_bar(stat=\"identity\")\n",
    "p"
   ]
  },
  {
   "cell_type": "code",
   "execution_count": 31,
   "metadata": {},
   "outputs": [
    {
     "data": {
      "image/png": "[encoded data removed]",
      "text/plain": [
       "plot without title"
      ]
     },
     "metadata": {},
     "output_type": "display_data"
    }
   ],
   "source": [
    "p<-ggplot(data=q4, aes(x=geangry, y=voted18)) +\n",
    "  geom_bar(stat=\"identity\")\n",
    "p"
   ]
  },
  {
   "cell_type": "code",
   "execution_count": 32,
   "metadata": {},
   "outputs": [
    {
     "data": {
      "image/png": "[encoded data removed]",
      "text/plain": [
       "plot without title"
      ]
     },
     "metadata": {},
     "output_type": "display_data"
    }
   ],
   "source": [
    "p<-ggplot(data=q4, aes(x=geafraid, y=voted16)) +\n",
    "  geom_bar(stat=\"identity\")\n",
    "p"
   ]
  },
  {
   "cell_type": "code",
   "execution_count": 33,
   "metadata": {},
   "outputs": [
    {
     "data": {
      "image/png": "[encoded data removed]",
      "text/plain": [
       "plot without title"
      ]
     },
     "metadata": {},
     "output_type": "display_data"
    }
   ],
   "source": [
    "p<-ggplot(data=q4, aes(x=geafraid, y=voted18)) +\n",
    "  geom_bar(stat=\"identity\")\n",
    "p"
   ]
  },
  {
   "cell_type": "code",
   "execution_count": 34,
   "metadata": {},
   "outputs": [
    {
     "data": {
      "text/plain": [
       "   Min. 1st Qu.  Median    Mean 3rd Qu.    Max. \n",
       "  1.000   2.000   3.000   2.695   4.000   5.000 "
      ]
     },
     "metadata": {},
     "output_type": "display_data"
    }
   ],
   "source": [
    "summary(q4$geafraid)"
   ]
  },
  {
   "cell_type": "code",
   "execution_count": 35,
   "metadata": {},
   "outputs": [
    {
     "data": {
      "text/plain": [
       "   Min. 1st Qu.  Median    Mean 3rd Qu.    Max. \n",
       "  1.000   2.000   3.000   2.959   4.000   5.000 "
      ]
     },
     "metadata": {},
     "output_type": "display_data"
    }
   ],
   "source": [
    "summary(q4$geangry)"
   ]
  },
  {
   "cell_type": "code",
   "execution_count": 23,
   "metadata": {},
   "outputs": [],
   "source": [
    "agg_q4=aggregate(q4[,c(\"geafraid\",\"geangry\",\"voted16\",\"voted18\")],\n",
    "                by = list(q4$geafraid, q4$geangry),\n",
    "                FUN = sum)"
   ]
  },
  {
   "cell_type": "code",
   "execution_count": 24,
   "metadata": {},
   "outputs": [],
   "source": [
    "agg_q4$increase<-agg_q4$voted18 - agg_q4$voted16"
   ]
  },
  {
   "cell_type": "code",
   "execution_count": 31,
   "metadata": {},
   "outputs": [
    {
     "data": {
      "text/html": [
       "<table>\n",
       "<thead><tr><th scope=col>Group.1</th><th scope=col>Group.2</th><th scope=col>geafraid</th><th scope=col>geangry</th><th scope=col>voted16</th><th scope=col>voted18</th><th scope=col>increase</th></tr></thead>\n",
       "<tbody>\n",
       "\t<tr><td>1  </td><td>1  </td><td>306</td><td>306</td><td>226</td><td>218</td><td>-8 </td></tr>\n",
       "\t<tr><td>2  </td><td>1  </td><td>234</td><td>117</td><td> 83</td><td> 85</td><td> 2 </td></tr>\n",
       "\t<tr><td>3  </td><td>1  </td><td>120</td><td> 40</td><td> 23</td><td> 24</td><td> 1 </td></tr>\n",
       "\t<tr><td>4  </td><td>1  </td><td> 52</td><td> 13</td><td>  9</td><td>  9</td><td> 0 </td></tr>\n",
       "\t<tr><td>5  </td><td>1  </td><td> 20</td><td>  4</td><td>  3</td><td>  2</td><td>-1 </td></tr>\n",
       "\t<tr><td>1  </td><td>2  </td><td>102</td><td>204</td><td> 87</td><td> 85</td><td>-2 </td></tr>\n",
       "\t<tr><td>2  </td><td>2  </td><td>398</td><td>398</td><td>159</td><td>156</td><td>-3 </td></tr>\n",
       "\t<tr><td>3  </td><td>2  </td><td>315</td><td>210</td><td> 75</td><td> 79</td><td> 4 </td></tr>\n",
       "\t<tr><td>4  </td><td>2  </td><td>116</td><td> 58</td><td> 19</td><td> 19</td><td> 0 </td></tr>\n",
       "\t<tr><td>5  </td><td>2  </td><td> 45</td><td> 18</td><td>  5</td><td>  5</td><td> 0 </td></tr>\n",
       "\t<tr><td>1  </td><td>3  </td><td> 90</td><td>270</td><td> 69</td><td> 65</td><td>-4 </td></tr>\n",
       "\t<tr><td>2  </td><td>3  </td><td>242</td><td>363</td><td> 94</td><td> 93</td><td>-1 </td></tr>\n",
       "\t<tr><td>3  </td><td>3  </td><td>582</td><td>582</td><td>141</td><td>138</td><td>-3 </td></tr>\n",
       "\t<tr><td>4  </td><td>3  </td><td>348</td><td>261</td><td> 66</td><td> 63</td><td>-3 </td></tr>\n",
       "\t<tr><td>5  </td><td>3  </td><td>150</td><td> 90</td><td> 22</td><td> 25</td><td> 3 </td></tr>\n",
       "\t<tr><td>1  </td><td>4  </td><td> 31</td><td>124</td><td> 24</td><td> 26</td><td> 2 </td></tr>\n",
       "\t<tr><td>2  </td><td>4  </td><td>146</td><td>292</td><td> 64</td><td> 61</td><td>-3 </td></tr>\n",
       "\t<tr><td>3  </td><td>4  </td><td>414</td><td>552</td><td>115</td><td>117</td><td> 2 </td></tr>\n",
       "\t<tr><td>4  </td><td>4  </td><td>652</td><td>652</td><td>144</td><td>140</td><td>-4 </td></tr>\n",
       "\t<tr><td>5  </td><td>4  </td><td>235</td><td>188</td><td> 32</td><td> 33</td><td> 1 </td></tr>\n",
       "\t<tr><td>1  </td><td>5  </td><td> 25</td><td>125</td><td> 20</td><td> 20</td><td> 0 </td></tr>\n",
       "\t<tr><td>2  </td><td>5  </td><td> 58</td><td>145</td><td> 25</td><td> 25</td><td> 0 </td></tr>\n",
       "\t<tr><td>3  </td><td>5  </td><td>243</td><td>405</td><td> 69</td><td> 69</td><td> 0 </td></tr>\n",
       "\t<tr><td>4  </td><td>5  </td><td>484</td><td>605</td><td>108</td><td>110</td><td> 2 </td></tr>\n",
       "\t<tr><td>5  </td><td>5  </td><td>860</td><td>860</td><td>150</td><td>154</td><td> 4 </td></tr>\n",
       "</tbody>\n",
       "</table>\n"
      ],
      "text/latex": [
       "\\begin{tabular}{r|lllllll}\n",
       " Group.1 & Group.2 & geafraid & geangry & voted16 & voted18 & increase\\\\\n",
       "\\hline\n",
       "\t 1   & 1   & 306 & 306 & 226 & 218 & -8 \\\\\n",
       "\t 2   & 1   & 234 & 117 &  83 &  85 &  2 \\\\\n",
       "\t 3   & 1   & 120 &  40 &  23 &  24 &  1 \\\\\n",
       "\t 4   & 1   &  52 &  13 &   9 &   9 &  0 \\\\\n",
       "\t 5   & 1   &  20 &   4 &   3 &   2 & -1 \\\\\n",
       "\t 1   & 2   & 102 & 204 &  87 &  85 & -2 \\\\\n",
       "\t 2   & 2   & 398 & 398 & 159 & 156 & -3 \\\\\n",
       "\t 3   & 2   & 315 & 210 &  75 &  79 &  4 \\\\\n",
       "\t 4   & 2   & 116 &  58 &  19 &  19 &  0 \\\\\n",
       "\t 5   & 2   &  45 &  18 &   5 &   5 &  0 \\\\\n",
       "\t 1   & 3   &  90 & 270 &  69 &  65 & -4 \\\\\n",
       "\t 2   & 3   & 242 & 363 &  94 &  93 & -1 \\\\\n",
       "\t 3   & 3   & 582 & 582 & 141 & 138 & -3 \\\\\n",
       "\t 4   & 3   & 348 & 261 &  66 &  63 & -3 \\\\\n",
       "\t 5   & 3   & 150 &  90 &  22 &  25 &  3 \\\\\n",
       "\t 1   & 4   &  31 & 124 &  24 &  26 &  2 \\\\\n",
       "\t 2   & 4   & 146 & 292 &  64 &  61 & -3 \\\\\n",
       "\t 3   & 4   & 414 & 552 & 115 & 117 &  2 \\\\\n",
       "\t 4   & 4   & 652 & 652 & 144 & 140 & -4 \\\\\n",
       "\t 5   & 4   & 235 & 188 &  32 &  33 &  1 \\\\\n",
       "\t 1   & 5   &  25 & 125 &  20 &  20 &  0 \\\\\n",
       "\t 2   & 5   &  58 & 145 &  25 &  25 &  0 \\\\\n",
       "\t 3   & 5   & 243 & 405 &  69 &  69 &  0 \\\\\n",
       "\t 4   & 5   & 484 & 605 & 108 & 110 &  2 \\\\\n",
       "\t 5   & 5   & 860 & 860 & 150 & 154 &  4 \\\\\n",
       "\\end{tabular}\n"
      ],
      "text/markdown": [
       "\n",
       "| Group.1 | Group.2 | geafraid | geangry | voted16 | voted18 | increase |\n",
       "|---|---|---|---|---|---|---|\n",
       "| 1   | 1   | 306 | 306 | 226 | 218 | -8  |\n",
       "| 2   | 1   | 234 | 117 |  83 |  85 |  2  |\n",
       "| 3   | 1   | 120 |  40 |  23 |  24 |  1  |\n",
       "| 4   | 1   |  52 |  13 |   9 |   9 |  0  |\n",
       "| 5   | 1   |  20 |   4 |   3 |   2 | -1  |\n",
       "| 1   | 2   | 102 | 204 |  87 |  85 | -2  |\n",
       "| 2   | 2   | 398 | 398 | 159 | 156 | -3  |\n",
       "| 3   | 2   | 315 | 210 |  75 |  79 |  4  |\n",
       "| 4   | 2   | 116 |  58 |  19 |  19 |  0  |\n",
       "| 5   | 2   |  45 |  18 |   5 |   5 |  0  |\n",
       "| 1   | 3   |  90 | 270 |  69 |  65 | -4  |\n",
       "| 2   | 3   | 242 | 363 |  94 |  93 | -1  |\n",
       "| 3   | 3   | 582 | 582 | 141 | 138 | -3  |\n",
       "| 4   | 3   | 348 | 261 |  66 |  63 | -3  |\n",
       "| 5   | 3   | 150 |  90 |  22 |  25 |  3  |\n",
       "| 1   | 4   |  31 | 124 |  24 |  26 |  2  |\n",
       "| 2   | 4   | 146 | 292 |  64 |  61 | -3  |\n",
       "| 3   | 4   | 414 | 552 | 115 | 117 |  2  |\n",
       "| 4   | 4   | 652 | 652 | 144 | 140 | -4  |\n",
       "| 5   | 4   | 235 | 188 |  32 |  33 |  1  |\n",
       "| 1   | 5   |  25 | 125 |  20 |  20 |  0  |\n",
       "| 2   | 5   |  58 | 145 |  25 |  25 |  0  |\n",
       "| 3   | 5   | 243 | 405 |  69 |  69 |  0  |\n",
       "| 4   | 5   | 484 | 605 | 108 | 110 |  2  |\n",
       "| 5   | 5   | 860 | 860 | 150 | 154 |  4  |\n",
       "\n"
      ],
      "text/plain": [
       "   Group.1 Group.2 geafraid geangry voted16 voted18 increase\n",
       "1  1       1       306      306     226     218     -8      \n",
       "2  2       1       234      117      83      85      2      \n",
       "3  3       1       120       40      23      24      1      \n",
       "4  4       1        52       13       9       9      0      \n",
       "5  5       1        20        4       3       2     -1      \n",
       "6  1       2       102      204      87      85     -2      \n",
       "7  2       2       398      398     159     156     -3      \n",
       "8  3       2       315      210      75      79      4      \n",
       "9  4       2       116       58      19      19      0      \n",
       "10 5       2        45       18       5       5      0      \n",
       "11 1       3        90      270      69      65     -4      \n",
       "12 2       3       242      363      94      93     -1      \n",
       "13 3       3       582      582     141     138     -3      \n",
       "14 4       3       348      261      66      63     -3      \n",
       "15 5       3       150       90      22      25      3      \n",
       "16 1       4        31      124      24      26      2      \n",
       "17 2       4       146      292      64      61     -3      \n",
       "18 3       4       414      552     115     117      2      \n",
       "19 4       4       652      652     144     140     -4      \n",
       "20 5       4       235      188      32      33      1      \n",
       "21 1       5        25      125      20      20      0      \n",
       "22 2       5        58      145      25      25      0      \n",
       "23 3       5       243      405      69      69      0      \n",
       "24 4       5       484      605     108     110      2      \n",
       "25 5       5       860      860     150     154      4      "
      ]
     },
     "metadata": {},
     "output_type": "display_data"
    }
   ],
   "source": [
    "agg_q4"
   ]
  },
  {
   "cell_type": "code",
   "execution_count": 26,
   "metadata": {},
   "outputs": [],
   "source": [
    "q4$increase<-q4$voted18 - q4$voted16"
   ]
  },
  {
   "cell_type": "code",
   "execution_count": 27,
   "metadata": {},
   "outputs": [
    {
     "data": {
      "image/png": "[encoded data removed]",
      "text/plain": [
       "Plot with title \"Histogram of q4$increase\""
      ]
     },
     "metadata": {},
     "output_type": "display_data"
    }
   ],
   "source": [
    "hist(q4$increase)"
   ]
  },
  {
   "cell_type": "code",
   "execution_count": 28,
   "metadata": {},
   "outputs": [
    {
     "data": {
      "text/html": [
       "1.9458227239527"
      ],
      "text/latex": [
       "1.9458227239527"
      ],
      "text/markdown": [
       "1.9458227239527"
      ],
      "text/plain": [
       "[1] 1.945823"
      ]
     },
     "metadata": {},
     "output_type": "display_data"
    }
   ],
   "source": [
    "var(q4$geangry)"
   ]
  },
  {
   "cell_type": "code",
   "execution_count": 29,
   "metadata": {},
   "outputs": [
    {
     "data": {
      "text/html": [
       "1.72011871411533"
      ],
      "text/latex": [
       "1.72011871411533"
      ],
      "text/markdown": [
       "1.72011871411533"
      ],
      "text/plain": [
       "[1] 1.720119"
      ]
     },
     "metadata": {},
     "output_type": "display_data"
    }
   ],
   "source": [
    "var(q4$geafraid)"
   ]
  },
  {
   "cell_type": "markdown",
   "metadata": {},
   "source": [
    "### Based on your EDA, select an appropriate hypothesis test.  (5 points)\n",
    "Explain why your test is the most appropriate choice.  List and evaluate all assumptions for your test."
   ]
  },
  {
   "cell_type": "markdown",
   "metadata": {},
   "source": [
    "The selected hypothesis test is a **unpaired  t-test**. This is because the dependent variable, increase in voter turnout, is parametric (t-test) and there are two, separate indpendent variables - fear and anger (unpaired).\n",
    "\n",
    "**Reasoning**:\n",
    "* The dependent variable (increase in voter turnout) is parametric rather than non-parametric\n",
    "* The test should be unpaired, there are two variables within different subjects (the independent variables of fear and anger are separate subjects)\n",
    "\n",
    "**Assumptions** of an unpaired t-test:\n",
    "* Data is metric: this assumption is fulfilled as the increase is a metric variable\n",
    "* Only two groups are compared: only the angry and fearful groups are being compared\n",
    "* Two groups are independent: the test should be comparing the angry and fearful groups, fear and anger are not the same topic; because the dependent variable is \"increase in turnout\" rather than turnout at each point in time, this points to an unpaired test. \n",
    "* Data should be normally distributed: the histogram of increase shows a fairly normal distribution / bell shaped curve, with a high concentration in the middle of the curve and low concentrations on the ends of the curve.\n",
    "* Groups should have equal variance: the independent variables (geangry and geafraid) have similar levels of variance (1.95 vs. 1.72)"
   ]
  },
  {
   "cell_type": "markdown",
   "metadata": {},
   "source": [
    "### Conduct your test. (5 points)\n",
    "Explain (1) the statistical significance of your result, and (2) the practical significance of your result.  Make sure you relate your findings to the original research question."
   ]
  },
  {
   "cell_type": "code",
   "execution_count": 43,
   "metadata": {},
   "outputs": [
    {
     "data": {
      "text/plain": [
       "\n",
       "\tWelch Two Sample t-test\n",
       "\n",
       "data:  q4$increase[q4$geafraid > 1] and q4$increase[q4$geangry > 1]\n",
       "t = 0.33081, df = 3609.4, p-value = 0.7408\n",
       "alternative hypothesis: true difference in means is not equal to 0\n",
       "95 percent confidence interval:\n",
       " -0.01612467  0.02267045\n",
       "sample estimates:\n",
       "    mean of x     mean of y \n",
       " 0.0005643341 -0.0027085590 \n"
      ]
     },
     "metadata": {},
     "output_type": "display_data"
    }
   ],
   "source": [
    "t.test(q4$increase [q4$geafraid>1], q4$increase [q4$geangry>1], alternative = \"two.sided\", var.equal = FALSE)\n",
    "#filtered out non-fearful and non-angry voters to compare the two groups of voters who were angry and fearful as the problem states"
   ]
  },
  {
   "cell_type": "markdown",
   "metadata": {},
   "source": [
    "After completing the selected unpaired t-test, the result was compared to another unpaired hypothesis test - the rank sum test (which does not assume a normal distribution), and the results were similar (p=0.7408). We used this test as a comparison in the case someone could make the argument that the \"increase\" data followed a rank/non-parametric structure rather than a metric structure."
   ]
  },
  {
   "cell_type": "code",
   "execution_count": 44,
   "metadata": {},
   "outputs": [
    {
     "data": {
      "text/plain": [
       "\n",
       "\tWilcoxon rank sum test with continuity correction\n",
       "\n",
       "data:  q4$increase[q4$geafraid > 1] and q4$increase[q4$geangry > 1]\n",
       "W = 1640672, p-value = 0.7408\n",
       "alternative hypothesis: true location shift is not equal to 0\n"
      ]
     },
     "metadata": {},
     "output_type": "display_data"
    }
   ],
   "source": [
    "res <- wilcox.test( q4$increase[q4$geafraid > 1],  q4$increase[q4$geangry > 1])\n",
    "res"
   ]
  },
  {
   "cell_type": "code",
   "execution_count": 45,
   "metadata": {},
   "outputs": [
    {
     "data": {
      "text/plain": [
       "\n",
       "Cohen's d\n",
       "\n",
       "d estimate: 0.01100223 (negligible)\n",
       "95 percent confidence interval:\n",
       "      lower       upper \n",
       "-0.05420314  0.07620759 \n"
      ]
     },
     "metadata": {},
     "output_type": "display_data"
    }
   ],
   "source": [
    "cohen.d(q4$increase[q4$geafraid > 1], q4$increase[q4$geangry > 1])"
   ]
  },
  {
   "cell_type": "markdown",
   "metadata": {},
   "source": [
    "#### Summary\n",
    "\n",
    "##### Null Hypothesis ($H_0$):\n",
    "Anger and fear were equally effective at driving increases in voter turnout\n",
    "\n",
    "##### Alternative Hypothesis ($H_1$):\n",
    "Anger and fear and not equally effective at driving increases in voter turnout\n",
    "\n",
    "##### (1) Statistical Significance:\n",
    "Because the p-value of the unpaired t-test is 0.7408, we fail to reject the null hypothesis that anger and fear played the same role in voter turnout increase from 2016 to 2018. \n",
    "\n",
    "##### (2) Practical Significance:\n",
    "The effect size was  0.01100223 (negligible) indicating low practical significance.\n",
    " \n",
    "##### Conclusion:\n",
    "There is not strong evidence that fear and anger had differing levels of effectiveness at driving increases in voter turnout."
   ]
  },
  {
   "cell_type": "markdown",
   "metadata": {},
   "source": [
    "## Question 5: Did voters rate Donald Trump more favorably than Hillary Clinton?"
   ]
  },
  {
   "cell_type": "markdown",
   "metadata": {},
   "source": [
    "### Clearly argue for the relevance of this question.  (10 points)\n",
    "In words, clearly state your research question and argue why it is important for understanding the recent voting behavior. Explain it as if you were presenting to an audience that includes technical and non technical members.\n",
    "\n",
    "Explain how your variables are operationalized.  Comment on any gaps that you can identify between your operational definitions and the concepts you are trying to study."
   ]
  },
  {
   "cell_type": "markdown",
   "metadata": {},
   "source": [
    "**Variables**\n",
    "\n",
    "For this question we will operationalize two variables: *fthrc* and *fttrump*.\n",
    "* *fthrc* and *fttrump variables* have ratings from 0 to 100. \n",
    "* These are measured on a feeling thermometer scale, 100 being very warm or favorable and 0 being very cold and unfavorable. \n",
    "\n",
    "<! Answer from Question 1 !>\n",
    "* *ftpolice* answers the question - How would you rate the police? \n",
    "* *ftjournal* answers the question - How would you rate the journalists. \n",
    "\n",
    "**Gaps**\n",
    "\n",
    "There is a gap between these operationalized variables and the questions - *Do voters respect police over journalists. Respect cannotbe accurately measured by just one variable measuring favorable rating. A favorable rating could be given for many reasons and cannot be equated to respect alone. But conceptually, we tend to favorably rate things we respect and feel warm towards that. With that argument, we will be using these variables for our analysis. Ratings between 0 and 50 would be considered unfavorable or cold and ratings between 50 and 100 will be considered favorable or warm.\n",
    "Ratings between 50 degrees and 100 degrees mean that you feel favorable and warm toward\n",
    "the person. Ratings between 0 degrees and 50 degrees mean that you don't feel favorable\n",
    "toward the person and that you don't care too much for that person. You would rate the\n",
    "person at the 50 degree mark if you don't feel particularly warm or cold toward the person.\n",
    "\n",
    "<! --------- !>"
   ]
  },
  {
   "cell_type": "markdown",
   "metadata": {},
   "source": [
    "### Perform EDA and select your hypothesis test (5 points)\n",
    "\n",
    "Perform an exploratory data analysis (EDA) of the relevant variables.\n",
    "\n",
    "This should include a treatment of non-response and other special codes, basic sanity checks, and a justification for any values that are removed.  Use visual tools to assess the relationship among your variables and comment on any features you find.\n",
    "\n",
    "Based on your EDA, select an appropriate hypothesis test.\n",
    "Explain why your test is the most appropriate choice.  List and evaluate all assumptions for your test."
   ]
  },
  {
   "cell_type": "markdown",
   "metadata": {},
   "source": [
    "We start by plotting a histogram of the two variables:"
   ]
  },
  {
   "cell_type": "code",
   "execution_count": 46,
   "metadata": {},
   "outputs": [
    {
     "data": {
      "image/png": "[encoded data removed]",
      "text/plain": [
       "Plot with title “Histogram of survey$fthrc”"
      ]
     },
     "metadata": {},
     "output_type": "display_data"
    },
    {
     "data": {
      "image/png": "[encoded data removed]",
      "text/plain": [
       "Plot with title “Histogram of survey$fttrump”"
      ]
     },
     "metadata": {},
     "output_type": "display_data"
    }
   ],
   "source": [
    "survey = read.csv('anes_pilot_2018.csv')\n",
    "hist(survey$fthrc)\n",
    "hist(survey$fttrump)"
   ]
  },
  {
   "cell_type": "code",
   "execution_count": 47,
   "metadata": {},
   "outputs": [
    {
     "data": {
      "text/plain": [
       "   Min. 1st Qu.  Median    Mean 3rd Qu.    Max. \n",
       "  -7.00    3.00   40.00   41.01   72.00  100.00 "
      ]
     },
     "metadata": {},
     "output_type": "display_data"
    },
    {
     "data": {
      "text/plain": [
       "   Min. 1st Qu.  Median    Mean 3rd Qu.    Max.    NA's \n",
       "  -7.00    1.00   25.00   47.19   85.00  997.00       4 "
      ]
     },
     "metadata": {},
     "output_type": "display_data"
    },
    {
     "data": {
      "text/html": [
       "2471"
      ],
      "text/latex": [
       "2471"
      ],
      "text/markdown": [
       "2471"
      ],
      "text/plain": [
       "[1] 2471"
      ]
     },
     "metadata": {},
     "output_type": "display_data"
    }
   ],
   "source": [
    "survey = read.csv('anes_pilot_2018.csv')\n",
    "summary(survey$fthrc)\n",
    "summary(survey$fttrump)\n",
    "validtrump = subset(survey$fttrump,survey$fttrump>=0&survey$fttrump<=100&survey$fttrump!='NA')\n",
    "length(validtrump)"
   ]
  },
  {
   "cell_type": "markdown",
   "metadata": {},
   "source": [
    "*fttrump* has 27 occurances of rating = 997. \n",
    "\n",
    "This seems errorneous since the thermometer scale goes stops at 100. We will need to analyze if these will skew the metrics. \n",
    "\n",
    "Comparing the summary of this dataset as-is, with the dataset after removing rating = 997 there is a large difference in the mean and median of these two datasets. \n",
    "\n",
    "This means, that these erroneous values are skewing the results of *fttrump* variable. \n",
    "\n",
    "We will need to handle these values before we run the hypothesis test. After removing the erroneous values and NA from the dataset we are left with 2471 values, which is still a large sample size. \n",
    "\n",
    "Next, we will need to analyze the *fthrc* dataset and manipulate it to keep the sample size same between the two variables. "
   ]
  },
  {
   "cell_type": "code",
   "execution_count": 48,
   "metadata": {},
   "outputs": [
    {
     "data": {
      "text/html": [
       "2471"
      ],
      "text/latex": [
       "2471"
      ],
      "text/markdown": [
       "2471"
      ],
      "text/plain": [
       "[1] 2471"
      ]
     },
     "metadata": {},
     "output_type": "display_data"
    }
   ],
   "source": [
    "validhrc = subset(survey$fthrc,survey$fthrc>=0&survey$fthrc<=100&survey$fthrc!='NA')\n",
    "#randomly removing few rows to keep sample size the same with validtrump variable\n",
    "validhrc.df = as.data.frame(validhrc)\n",
    "validhrc = validhrc[-sample(1:nrow(validhrc.df),27)]\n",
    "length(validhrc)"
   ]
  },
  {
   "cell_type": "markdown",
   "metadata": {},
   "source": [
    "**Hypothesis Test**\n",
    "\n",
    "Our preferred choice here is **Wilcoxon signed-rank test**. Below are the reasons to support this choice.\n",
    "\n",
    "$ H_0 $ = The mean rating of Donald Trump is the same as mean rating of Hilary Clinton\n",
    "\n",
    "$ H_A $ = The mean rating of Donald Trump is not the same as mean rating of Hilary Clinton\n",
    "\n",
    "\n",
    "**Assumptions**\n",
    "\n",
    "1) Ordinal scale - There is a clear rank order, with 100 > 99 > 98...0. We would not call this a metric variable, since the difference between 100 and 70 may not be the same as the difference between 70 and 40. This means, for example, that it wouldn't be valid to average 100 and 70, and call the result equivalent to a 85. (For this reason, a t-test is not valid)\n",
    "\n",
    "2) Random sampling - There are many reasons to suspect that people taking the survey are not fully independent. There could be clustering for the people from the same family or community taking the survey. People from the same community or family tend to have similar opinions on politics and national issues. To partially account for differences between the YouGov panel and the U.S. Population, ANES assigns a survey weight to each observation. This weight estimates the degree to which a citizen with certain observed characteristics is over- or under-represented in the sample. However, we are not using the weights for this exercise.\n",
    "\n",
    "3) The two variables are paired since the two ratings are from the same people."
   ]
  },
  {
   "cell_type": "markdown",
   "metadata": {},
   "source": [
    "### Conduct your test. (2 points)\n",
    "Explain (1) the statistical significance of your result, and (2) the practical significance of your result."
   ]
  },
  {
   "cell_type": "code",
   "execution_count": 49,
   "metadata": {},
   "outputs": [
    {
     "data": {
      "text/plain": [
       "\n",
       "\tWilcoxon signed rank test with continuity correction\n",
       "\n",
       "data:  validtrump and validhrc\n",
       "V = 1386690, p-value = 0.2139\n",
       "alternative hypothesis: true location shift is not equal to 0\n",
       "95 percent confidence interval:\n",
       " -3.5000270  0.5000254\n",
       "sample estimates:\n",
       "(pseudo)median \n",
       "     -1.499992 \n"
      ]
     },
     "metadata": {},
     "output_type": "display_data"
    }
   ],
   "source": [
    "wilcox.test(validtrump,validhrc, mu=0, paired = T, alternative = \"two.sided\", conf.int = T)"
   ]
  },
  {
   "cell_type": "code",
   "execution_count": 50,
   "metadata": {},
   "outputs": [
    {
     "data": {
      "text/plain": [
       "\n",
       "Cohen's d\n",
       "\n",
       "d estimate: -0.0295313 (negligible)\n",
       "95 percent confidence interval:\n",
       "      lower       upper \n",
       "-0.08530851  0.02624591 \n"
      ]
     },
     "metadata": {},
     "output_type": "display_data"
    }
   ],
   "source": [
    "cohen.d(validtrump,validhrc)"
   ]
  },
  {
   "cell_type": "markdown",
   "metadata": {},
   "source": [
    "### Conclusion (3 points)\n",
    "Clearly state the conclusion of your hypothesis test and how it relates to your research question.\n",
    "\n",
    "Finally, briefly present your conclusion in words as if you were presenting to an audience that includes technical and non technical members."
   ]
  },
  {
   "cell_type": "markdown",
   "metadata": {},
   "source": [
    "**(1)** Statistical significance\n",
    "\n",
    "The test is not statically significant with p value greater than .05 (0.2288). This means that the we fail to reject the null hypothesis. \n",
    "\n",
    "The null hypothesis stated that there is no significant difference in how voters rate Donald Trump vs Hillary Clinton. \n",
    "\n",
    "**(2)** Practical significance\n",
    "\n",
    "The effect size is negligible (-0.0279) meaning the hypothesis has very low practical significance."
   ]
  }
 ],
 "metadata": {
  "kernelspec": {
   "display_name": "R",
   "language": "R",
   "name": "ir"
  },
  "language_info": {
   "codemirror_mode": "r",
   "file_extension": ".r",
   "mimetype": "text/x-r-source",
   "name": "R",
   "pygments_lexer": "r",
   "version": "3.6.1"
  },
  "toc": {
   "base_numbering": 1,
   "nav_menu": {},
   "number_sections": true,
   "sideBar": true,
   "skip_h1_title": false,
   "title_cell": "Table of Contents",
   "title_sidebar": "Contents",
   "toc_cell": true,
   "toc_position": {},
   "toc_section_display": true,
   "toc_window_display": false
  },
  "varInspector": {
   "cols": {
    "lenName": 16,
    "lenType": 16,
    "lenVar": 40
   },
   "kernels_config": {
    "python": {
     "delete_cmd_postfix": "",
     "delete_cmd_prefix": "del ",
     "library": "var_list.py",
     "varRefreshCmd": "print(var_dic_list())"
    },
    "r": {
     "delete_cmd_postfix": ") ",
     "delete_cmd_prefix": "rm(",
     "library": "var_list.r",
     "varRefreshCmd": "cat(var_dic_list()) "
    }
   },
   "types_to_exclude": [
    "module",
    "function",
    "builtin_function_or_method",
    "instance",
    "_Feature"
   ],
   "window_display": false
  }
 },
 "nbformat": 4,
 "nbformat_minor": 4
}
